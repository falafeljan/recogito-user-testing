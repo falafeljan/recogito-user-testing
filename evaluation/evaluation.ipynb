{
 "cells": [
  {
   "cell_type": "markdown",
   "metadata": {},
   "source": [
    "# Recogito User Study: Evaluation"
   ]
  },
  {
   "cell_type": "markdown",
   "metadata": {},
   "source": [
    "Hi! We're evaluating here the records measured during user testing sessions on the Recogito annotation tool with students from Chiara Palladino's Classics courses at Furman University, South Carolina, USA."
   ]
  },
  {
   "cell_type": "markdown",
   "metadata": {},
   "source": [
    "First, we're going to load all records from the database dump. All records have been stored in real-time into a CouchDB NoSQL database, so getting a plain JSON output has been a no-brainer."
   ]
  },
  {
   "cell_type": "code",
   "execution_count": 33,
   "metadata": {},
   "outputs": [],
   "source": [
    "const records = require('./records.json')"
   ]
  },
  {
   "cell_type": "markdown",
   "metadata": {},
   "source": [
    "The root element has the `rows` property, which we need to access its rows."
   ]
  },
  {
   "cell_type": "code",
   "execution_count": 34,
   "metadata": {},
   "outputs": [
    {
     "name": "stdout",
     "output_type": "stream",
     "text": [
      "Object properties: [ 'total_rows', 'offset', 'rows' ]\n",
      "Number of records: 4763\n"
     ]
    }
   ],
   "source": [
    "console.log('Object properties:', Object.keys(records))\n",
    "console.log('Number of records:', records.rows.length)"
   ]
  },
  {
   "cell_type": "markdown",
   "metadata": {},
   "source": [
    "## Exploring the Schema"
   ]
  },
  {
   "cell_type": "markdown",
   "metadata": {},
   "source": [
    "At first, let's discover what kinds of properties an entry has."
   ]
  },
  {
   "cell_type": "code",
   "execution_count": 35,
   "metadata": {},
   "outputs": [
    {
     "name": "stdout",
     "output_type": "stream",
     "text": [
      "Row properties: [ 'id', 'key', 'value', 'doc' ]\n",
      "{\n",
      "  \"id\": \"000c6fd0-1530-11ea-8886-214517bdac3a\",\n",
      "  \"key\": \"000c6fd0-1530-11ea-8886-214517bdac3a\",\n",
      "  \"value\": {\n",
      "    \"rev\": \"1-eb5a97672dfac35f3e569aaa9d085f92\"\n",
      "  },\n",
      "  \"doc\": {\n",
      "    \"_id\": \"000c6fd0-1530-11ea-8886-214517bdac3a\",\n",
      "    \"_rev\": \"1-eb5a97672dfac35f3e569aaa9d085f92\",\n",
      "    \"type\": \"open\",\n",
      "    \"userId\": \"Ovalsquare\",\n",
      "    \"annotation\": {\n",
      "      \"annotation_id\": \"5c136455-c514-472a-8d33-4756e23b70e9\",\n",
      "      \"version_id\": \"6d693d8e-58a0-4c38-abe0-47a7523003c2\",\n",
      "      \"annotates\": {\n",
      "        \"document_id\": \"abj2fb4gjn04mg\",\n",
      "        \"filepart_id\": \"29945459-c942-4b7a-8887-49757f964a75\",\n",
      "        \"content_type\": [\n",
      "          \"IMAGE\",\n",
      "          \"IMAGE_UPLOAD\"\n",
      "        ]\n",
      "      },\n",
      "      \"contributors\": [\n",
      "        \"tvs2019\"\n",
      "      ],\n",
      "      \"anchor\": \"tbox:x=2840,y=746,a=0.19528139809489925,l=93,h=-23\",\n",
      "      \"last_modified_by\": \"tvs2019\",\n",
      "      \"last_modified_at\": \"2019-11-15T18:07:45+00:00\",\n",
      "      \"bodies\": [\n",
      "        {\n",
      "          \"type\": \"TRANSCRIPTION\",\n",
      "          \"last_modified_by\": \"tvs2019\",\n",
      "          \"last_modified_at\": \"2019-11-15T18:07:45+00:00\",\n",
      "          \"value\": \"Bandritum\"\n",
      "        }\n",
      "      ]\n",
      "    },\n",
      "    \"timestamp\": 1575310649165\n",
      "  }\n",
      "}\n"
     ]
    }
   ],
   "source": [
    "let firstRow = records.rows[0]\n",
    "console.log('Row properties:', Object.keys(firstRow))\n",
    "console.log(JSON.stringify(firstRow, null, 2))"
   ]
  },
  {
   "cell_type": "markdown",
   "metadata": {},
   "source": [
    "Again, this object is nested: Its root has `id`, `key`, and `doc`. `doc` has been provided by the analytics microservice running during each session, and this object, again, has `type`, `userId`, `annotation`, and `timestamp`. \n",
    "\n",
    "The `annotation` object is the annotation that Recogito operated on during particular events. We have 6 event types:\n",
    "* `init`: The page has reloaded (like pressing F5 in a browser).\n",
    "* `create`: An annotation has been created.\n",
    "* `open`: An existing annotation has been opened in the editor.\n",
    "* `edit`: An existing annotation has been edited.\n",
    "* `close`: The annotation editor has been closed.\n",
    "* `delete`: An existing annotation has been deleted."
   ]
  },
  {
   "cell_type": "markdown",
   "metadata": {},
   "source": [
    "## Preparing the Data"
   ]
  },
  {
   "cell_type": "markdown",
   "metadata": {},
   "source": [
    "We have had two sessions with each around 10-15 participants. They all gave their consent for their actions to be recorded digitally within the browser, and to be processed for the cause of this thesis. Let's prepare the data and make two batches, one for each session.\n",
    "* Session 1: Nov 15, 2019, 18:30-19:30 CET\n",
    "* Session 2: Dec 2, 2019, 18:30-19:30 CET"
   ]
  },
  {
   "cell_type": "code",
   "execution_count": 36,
   "metadata": {},
   "outputs": [
    {
     "name": "stdout",
     "output_type": "stream",
     "text": [
      "[ 1573839000000, 1573842600000 ]\n",
      "[ 1575307800000, 1575311400000 ]\n"
     ]
    }
   ],
   "source": [
    "var firstDate = [\n",
    "    Date.parse('15 Nov 2019 18:30:00 +1'),\n",
    "    Date.parse('15 Nov 2019 19:30:00 +1')\n",
    "]\n",
    "var secondDate = [\n",
    "    Date.parse('2 Dec 2019 18:30:00 +1'),\n",
    "    Date.parse('2 Dec 2019 19:30:00 +1')\n",
    "]\n",
    "\n",
    "console.log(firstDate)\n",
    "console.log(secondDate)\n",
    "\n",
    "var inbetween = (timestamp, [start, end]) => timestamp >= start && timestamp <= end"
   ]
  },
  {
   "cell_type": "markdown",
   "metadata": {},
   "source": [
    "So let's create two distinct sets of events, and analyze their size and how many we disregarded."
   ]
  },
  {
   "cell_type": "code",
   "execution_count": 38,
   "metadata": {},
   "outputs": [
    {
     "name": "stdout",
     "output_type": "stream",
     "text": [
      "First session: 1267 events\n",
      "Second session: 1850 events\n",
      "Not considered: 1646 events\n"
     ]
    }
   ],
   "source": [
    "var firstSession = []\n",
    "var secondSession = []\n",
    "var remainingEvents = []\n",
    "\n",
    "for (const row of records.rows) {\n",
    "    if (inbetween(row.doc.timestamp, firstDate)) {\n",
    "        firstSession.push(row)\n",
    "    } else if (inbetween(row.doc.timestamp, secondDate)) {\n",
    "        secondSession.push(row)\n",
    "    } else {\n",
    "        remainingEvents.push(row)\n",
    "    }\n",
    "}\n",
    "\n",
    "console.log('First session:', firstSession.length, 'events')\n",
    "console.log('Second session:', secondSession.length, 'events')\n",
    "console.log('Not considered:', remainingEvents.length, 'events')"
   ]
  },
  {
   "cell_type": "markdown",
   "metadata": {},
   "source": [
    "That's looking quite solid already. Let's see who worked inbetween the events and hasn't been considered."
   ]
  },
  {
   "cell_type": "code",
   "execution_count": 41,
   "metadata": {},
   "outputs": [
    {
     "data": {
      "text/plain": [
       "{\n",
       "  '1234': 5,\n",
       "  '1089111': 73,\n",
       "  '3002202': 16,\n",
       "  '3003938': 10,\n",
       "  recogito: 632,\n",
       "  tvs2019: 49,\n",
       "  homer1337: 44,\n",
       "  cpalladino: 241,\n",
       "  hermes: 30,\n",
       "  Lemur2001: 201,\n",
       "  Heartbreaker: 27,\n",
       "  null: 11,\n",
       "  foobar: 227,\n",
       "  Ovalsquare: 3,\n",
       "  falafeljan: 30,\n",
       "  '0801008': 23,\n",
       "  patl72033: 5,\n",
       "  ravenclaw99: 3,\n",
       "  azhang1004: 5,\n",
       "  Elsbert_test: 5,\n",
       "  homer26: 6\n",
       "}"
      ]
     },
     "execution_count": 41,
     "metadata": {},
     "output_type": "execute_result"
    }
   ],
   "source": [
    "var uniqueArray = (array) => [...new Set(array)]\n",
    "var userIds = {}\n",
    "for (const {doc} of remainingEvents) {\n",
    "    userIds[doc.userId] = typeof userIds[doc.userId] === 'undefined' ? 1 : userIds[doc.userId] + 1\n",
    "}\n",
    "\n",
    "userIds"
   ]
  },
  {
   "cell_type": "markdown",
   "metadata": {},
   "source": [
    "**TODO**: This should be of interest for later on, when adjusting the survey dates. "
   ]
  },
  {
   "cell_type": "markdown",
   "metadata": {},
   "source": [
    "## Data Analysis"
   ]
  },
  {
   "cell_type": "markdown",
   "metadata": {},
   "source": [
    "### Number of Page reloads"
   ]
  },
  {
   "cell_type": "markdown",
   "metadata": {},
   "source": [
    "Get the number of page reloads "
   ]
  }
 ],
 "metadata": {
  "kernelspec": {
   "display_name": "Javascript (Node.js)",
   "language": "javascript",
   "name": "javascript"
  },
  "language_info": {
   "file_extension": ".js",
   "mimetype": "application/javascript",
   "name": "javascript",
   "version": "13.6.0"
  }
 },
 "nbformat": 4,
 "nbformat_minor": 4
}
